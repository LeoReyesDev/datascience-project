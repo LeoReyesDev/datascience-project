{
 "cells": [
  {
   "cell_type": "markdown",
   "metadata": {},
   "source": [
    "# Chicago Illinois Inspections"
   ]
  },
  {
   "cell_type": "markdown",
   "metadata": {},
   "source": [
    "~Explicación~"
   ]
  },
  {
   "cell_type": "code",
   "execution_count": 174,
   "metadata": {},
   "outputs": [
    {
     "data": {
      "text/html": [
       "<div>\n",
       "<style scoped>\n",
       "    .dataframe tbody tr th:only-of-type {\n",
       "        vertical-align: middle;\n",
       "    }\n",
       "\n",
       "    .dataframe tbody tr th {\n",
       "        vertical-align: top;\n",
       "    }\n",
       "\n",
       "    .dataframe thead th {\n",
       "        text-align: right;\n",
       "    }\n",
       "</style>\n",
       "<table border=\"1\" class=\"dataframe\">\n",
       "  <thead>\n",
       "    <tr style=\"text-align: right;\">\n",
       "      <th></th>\n",
       "      <th>inspection_id</th>\n",
       "      <th>aka_name</th>\n",
       "      <th>dba_name</th>\n",
       "      <th>license_number</th>\n",
       "      <th>facility_type</th>\n",
       "      <th>risk</th>\n",
       "      <th>address</th>\n",
       "      <th>state</th>\n",
       "      <th>city</th>\n",
       "      <th>zip</th>\n",
       "      <th>inspection_date</th>\n",
       "      <th>inspection_type</th>\n",
       "      <th>results</th>\n",
       "      <th>violations</th>\n",
       "      <th>latitude</th>\n",
       "      <th>longitude</th>\n",
       "      <th>location</th>\n",
       "    </tr>\n",
       "  </thead>\n",
       "  <tbody>\n",
       "    <tr>\n",
       "      <th>0</th>\n",
       "      <td>1151931</td>\n",
       "      <td>BZ MART</td>\n",
       "      <td>BZ MART</td>\n",
       "      <td>2304387.0</td>\n",
       "      <td>Grocery Store</td>\n",
       "      <td>Risk 3 (Low)</td>\n",
       "      <td>4701 S WESTERN BLVD</td>\n",
       "      <td>IL</td>\n",
       "      <td>CHICAGO</td>\n",
       "      <td>60609.0</td>\n",
       "      <td>2014-01-17T00:00:00</td>\n",
       "      <td>License Re-Inspection</td>\n",
       "      <td>Pass</td>\n",
       "      <td>35. WALLS, CEILINGS, ATTACHED EQUIPMENT CONSTR...</td>\n",
       "      <td>41.808373</td>\n",
       "      <td>-87.683726</td>\n",
       "      <td>(41.8083731277443, -87.68372600471193)</td>\n",
       "    </tr>\n",
       "    <tr>\n",
       "      <th>1</th>\n",
       "      <td>1395530</td>\n",
       "      <td>JIMMY JOHN'S</td>\n",
       "      <td>JIMMY JOHN'S STORE # 722</td>\n",
       "      <td>2279570.0</td>\n",
       "      <td>Restaurant</td>\n",
       "      <td>Risk 1 (High)</td>\n",
       "      <td>1519 E 55TH ST</td>\n",
       "      <td>IL</td>\n",
       "      <td>CHICAGO</td>\n",
       "      <td>60615.0</td>\n",
       "      <td>2014-01-16T00:00:00</td>\n",
       "      <td>Short Form Complaint</td>\n",
       "      <td>Pass</td>\n",
       "      <td>NaN</td>\n",
       "      <td>41.795083</td>\n",
       "      <td>-87.588313</td>\n",
       "      <td>(41.795082532364255, -87.58831293902966)</td>\n",
       "    </tr>\n",
       "    <tr>\n",
       "      <th>2</th>\n",
       "      <td>1395529</td>\n",
       "      <td>SUBWAY</td>\n",
       "      <td>SUBWAY</td>\n",
       "      <td>2074313.0</td>\n",
       "      <td>Restaurant</td>\n",
       "      <td>Risk 1 (High)</td>\n",
       "      <td>51 W 79TH ST</td>\n",
       "      <td>IL</td>\n",
       "      <td>CHICAGO</td>\n",
       "      <td>60620.0</td>\n",
       "      <td>2014-01-16T00:00:00</td>\n",
       "      <td>Canvass</td>\n",
       "      <td>Pass</td>\n",
       "      <td>34. FLOORS: CONSTRUCTED PER CODE, CLEANED, GOO...</td>\n",
       "      <td>41.750814</td>\n",
       "      <td>-87.626711</td>\n",
       "      <td>(41.750813934830596, -87.62671100515273)</td>\n",
       "    </tr>\n",
       "    <tr>\n",
       "      <th>3</th>\n",
       "      <td>1395528</td>\n",
       "      <td>MILWAUKEE FRESH MARKET</td>\n",
       "      <td>MILWAUKEE FRESH MARKET</td>\n",
       "      <td>2262155.0</td>\n",
       "      <td>Grocery Store</td>\n",
       "      <td>Risk 2 (Medium)</td>\n",
       "      <td>3647-3651 W DIVERSEY AVE</td>\n",
       "      <td>IL</td>\n",
       "      <td>CHICAGO</td>\n",
       "      <td>60647.0</td>\n",
       "      <td>2014-01-16T00:00:00</td>\n",
       "      <td>Complaint</td>\n",
       "      <td>Pass</td>\n",
       "      <td>34. FLOORS: CONSTRUCTED PER CODE, CLEANED, GOO...</td>\n",
       "      <td>41.931776</td>\n",
       "      <td>-87.719103</td>\n",
       "      <td>(41.93177578799307, -87.7191028381685)</td>\n",
       "    </tr>\n",
       "    <tr>\n",
       "      <th>4</th>\n",
       "      <td>1393269</td>\n",
       "      <td>DOMINICK'S</td>\n",
       "      <td>DOMINICK'S Finer Foods, Inc. #1695</td>\n",
       "      <td>41682.0</td>\n",
       "      <td>Grocery Store</td>\n",
       "      <td>Risk 1 (High)</td>\n",
       "      <td>959 W FULLERTON AVE</td>\n",
       "      <td>IL</td>\n",
       "      <td>CHICAGO</td>\n",
       "      <td>60614.0</td>\n",
       "      <td>2014-01-16T00:00:00</td>\n",
       "      <td>Canvass</td>\n",
       "      <td>Out of Business</td>\n",
       "      <td>NaN</td>\n",
       "      <td>41.925268</td>\n",
       "      <td>-87.653488</td>\n",
       "      <td>(41.925268275703296, -87.65348756413924)</td>\n",
       "    </tr>\n",
       "  </tbody>\n",
       "</table>\n",
       "</div>"
      ],
      "text/plain": [
       "   inspection_id                aka_name                            dba_name  \\\n",
       "0        1151931                 BZ MART                             BZ MART   \n",
       "1        1395530            JIMMY JOHN'S            JIMMY JOHN'S STORE # 722   \n",
       "2        1395529                  SUBWAY                              SUBWAY   \n",
       "3        1395528  MILWAUKEE FRESH MARKET              MILWAUKEE FRESH MARKET   \n",
       "4        1393269              DOMINICK'S  DOMINICK'S Finer Foods, Inc. #1695   \n",
       "\n",
       "   license_number  facility_type             risk                    address  \\\n",
       "0       2304387.0  Grocery Store     Risk 3 (Low)       4701 S WESTERN BLVD    \n",
       "1       2279570.0     Restaurant    Risk 1 (High)            1519 E 55TH ST    \n",
       "2       2074313.0     Restaurant    Risk 1 (High)              51 W 79TH ST    \n",
       "3       2262155.0  Grocery Store  Risk 2 (Medium)  3647-3651 W DIVERSEY AVE    \n",
       "4         41682.0  Grocery Store    Risk 1 (High)       959 W FULLERTON AVE    \n",
       "\n",
       "  state     city      zip      inspection_date        inspection_type  \\\n",
       "0    IL  CHICAGO  60609.0  2014-01-17T00:00:00  License Re-Inspection   \n",
       "1    IL  CHICAGO  60615.0  2014-01-16T00:00:00   Short Form Complaint   \n",
       "2    IL  CHICAGO  60620.0  2014-01-16T00:00:00                Canvass   \n",
       "3    IL  CHICAGO  60647.0  2014-01-16T00:00:00              Complaint   \n",
       "4    IL  CHICAGO  60614.0  2014-01-16T00:00:00                Canvass   \n",
       "\n",
       "           results                                         violations  \\\n",
       "0             Pass  35. WALLS, CEILINGS, ATTACHED EQUIPMENT CONSTR...   \n",
       "1             Pass                                                NaN   \n",
       "2             Pass  34. FLOORS: CONSTRUCTED PER CODE, CLEANED, GOO...   \n",
       "3             Pass  34. FLOORS: CONSTRUCTED PER CODE, CLEANED, GOO...   \n",
       "4  Out of Business                                                NaN   \n",
       "\n",
       "    latitude  longitude                                  location  \n",
       "0  41.808373 -87.683726    (41.8083731277443, -87.68372600471193)  \n",
       "1  41.795083 -87.588313  (41.795082532364255, -87.58831293902966)  \n",
       "2  41.750814 -87.626711  (41.750813934830596, -87.62671100515273)  \n",
       "3  41.931776 -87.719103    (41.93177578799307, -87.7191028381685)  \n",
       "4  41.925268 -87.653488  (41.925268275703296, -87.65348756413924)  "
      ]
     },
     "execution_count": 174,
     "metadata": {},
     "output_type": "execute_result"
    }
   ],
   "source": [
    "import pandas as pd\n",
    "import numpy as np\n",
    "import matplotlib.pyplot as ptl\n",
    "\n",
    "datos = pd.read_csv(r\"C:\\Users\\esteb\\Desktop\\Proyecto GAP\\ChicagoIllinois-Restaurants.csv\")\n",
    "datos.head()"
   ]
  },
  {
   "cell_type": "markdown",
   "metadata": {},
   "source": [
    "~Explicación~"
   ]
  },
  {
   "cell_type": "code",
   "execution_count": 143,
   "metadata": {},
   "outputs": [
    {
     "name": "stdout",
     "output_type": "stream",
     "text": [
      "<class 'pandas.core.frame.DataFrame'>\n",
      "RangeIndex: 28000 entries, 0 to 27999\n",
      "Data columns (total 17 columns):\n",
      "inspection_id      28000 non-null int64\n",
      "aka_name           27758 non-null object\n",
      "dba_name           28000 non-null object\n",
      "license_number     27999 non-null float64\n",
      "facility_type      27632 non-null object\n",
      "risk               27990 non-null object\n",
      "address            28000 non-null object\n",
      "state              27987 non-null object\n",
      "city               27972 non-null object\n",
      "zip                27996 non-null float64\n",
      "inspection_date    28000 non-null object\n",
      "inspection_type    28000 non-null object\n",
      "results            28000 non-null object\n",
      "violations         20494 non-null object\n",
      "latitude           27866 non-null float64\n",
      "longitude          27866 non-null float64\n",
      "location           27866 non-null object\n",
      "dtypes: float64(4), int64(1), object(12)\n",
      "memory usage: 3.6+ MB\n"
     ]
    }
   ],
   "source": [
    "datos.info()"
   ]
  },
  {
   "cell_type": "markdown",
   "metadata": {},
   "source": [
    "~Explicación~"
   ]
  },
  {
   "cell_type": "code",
   "execution_count": 175,
   "metadata": {
    "scrolled": true
   },
   "outputs": [
    {
     "data": {
      "text/html": [
       "<div>\n",
       "<style scoped>\n",
       "    .dataframe tbody tr th:only-of-type {\n",
       "        vertical-align: middle;\n",
       "    }\n",
       "\n",
       "    .dataframe tbody tr th {\n",
       "        vertical-align: top;\n",
       "    }\n",
       "\n",
       "    .dataframe thead th {\n",
       "        text-align: right;\n",
       "    }\n",
       "</style>\n",
       "<table border=\"1\" class=\"dataframe\">\n",
       "  <thead>\n",
       "    <tr style=\"text-align: right;\">\n",
       "      <th></th>\n",
       "      <th>inspection_id</th>\n",
       "      <th>aka_name</th>\n",
       "      <th>dba_name</th>\n",
       "      <th>license_number</th>\n",
       "      <th>facility_type</th>\n",
       "      <th>risk</th>\n",
       "      <th>address</th>\n",
       "      <th>state</th>\n",
       "      <th>city</th>\n",
       "      <th>zip</th>\n",
       "      <th>inspection_date</th>\n",
       "      <th>inspection_type</th>\n",
       "      <th>results</th>\n",
       "      <th>violations</th>\n",
       "      <th>latitude</th>\n",
       "      <th>longitude</th>\n",
       "      <th>location</th>\n",
       "    </tr>\n",
       "  </thead>\n",
       "  <tbody>\n",
       "    <tr>\n",
       "      <th>0</th>\n",
       "      <td>1151931</td>\n",
       "      <td>BZ MART</td>\n",
       "      <td>bz mart</td>\n",
       "      <td>2304387.0</td>\n",
       "      <td>Grocery Store</td>\n",
       "      <td>Risk 3 (Low)</td>\n",
       "      <td>4701 S WESTERN BLVD</td>\n",
       "      <td>IL</td>\n",
       "      <td>CHICAGO</td>\n",
       "      <td>60609.0</td>\n",
       "      <td>2014-01-17T00:00:00</td>\n",
       "      <td>License Re-Inspection</td>\n",
       "      <td>Pass</td>\n",
       "      <td>35. WALLS, CEILINGS, ATTACHED EQUIPMENT CONSTR...</td>\n",
       "      <td>41.808373</td>\n",
       "      <td>-87.683726</td>\n",
       "      <td>(41.8083731277443, -87.68372600471193)</td>\n",
       "    </tr>\n",
       "    <tr>\n",
       "      <th>1</th>\n",
       "      <td>1395530</td>\n",
       "      <td>JIMMY JOHN'S</td>\n",
       "      <td>jimmy john's</td>\n",
       "      <td>2279570.0</td>\n",
       "      <td>Restaurant</td>\n",
       "      <td>Risk 1 (High)</td>\n",
       "      <td>1519 E 55TH ST</td>\n",
       "      <td>IL</td>\n",
       "      <td>CHICAGO</td>\n",
       "      <td>60615.0</td>\n",
       "      <td>2014-01-16T00:00:00</td>\n",
       "      <td>Short Form Complaint</td>\n",
       "      <td>Pass</td>\n",
       "      <td>NaN</td>\n",
       "      <td>41.795083</td>\n",
       "      <td>-87.588313</td>\n",
       "      <td>(41.795082532364255, -87.58831293902966)</td>\n",
       "    </tr>\n",
       "    <tr>\n",
       "      <th>2</th>\n",
       "      <td>1395529</td>\n",
       "      <td>SUBWAY</td>\n",
       "      <td>subway</td>\n",
       "      <td>2074313.0</td>\n",
       "      <td>Restaurant</td>\n",
       "      <td>Risk 1 (High)</td>\n",
       "      <td>51 W 79TH ST</td>\n",
       "      <td>IL</td>\n",
       "      <td>CHICAGO</td>\n",
       "      <td>60620.0</td>\n",
       "      <td>2014-01-16T00:00:00</td>\n",
       "      <td>Canvass</td>\n",
       "      <td>Pass</td>\n",
       "      <td>34. FLOORS: CONSTRUCTED PER CODE, CLEANED, GOO...</td>\n",
       "      <td>41.750814</td>\n",
       "      <td>-87.626711</td>\n",
       "      <td>(41.750813934830596, -87.62671100515273)</td>\n",
       "    </tr>\n",
       "    <tr>\n",
       "      <th>3</th>\n",
       "      <td>1395528</td>\n",
       "      <td>MILWAUKEE FRESH MARKET</td>\n",
       "      <td>milwaukee fresh market</td>\n",
       "      <td>2262155.0</td>\n",
       "      <td>Grocery Store</td>\n",
       "      <td>Risk 2 (Medium)</td>\n",
       "      <td>3647-3651 W DIVERSEY AVE</td>\n",
       "      <td>IL</td>\n",
       "      <td>CHICAGO</td>\n",
       "      <td>60647.0</td>\n",
       "      <td>2014-01-16T00:00:00</td>\n",
       "      <td>Complaint</td>\n",
       "      <td>Pass</td>\n",
       "      <td>34. FLOORS: CONSTRUCTED PER CODE, CLEANED, GOO...</td>\n",
       "      <td>41.931776</td>\n",
       "      <td>-87.719103</td>\n",
       "      <td>(41.93177578799307, -87.7191028381685)</td>\n",
       "    </tr>\n",
       "    <tr>\n",
       "      <th>4</th>\n",
       "      <td>1393269</td>\n",
       "      <td>DOMINICK'S</td>\n",
       "      <td>dominick's finer foods, inc. #1695</td>\n",
       "      <td>41682.0</td>\n",
       "      <td>Grocery Store</td>\n",
       "      <td>Risk 1 (High)</td>\n",
       "      <td>959 W FULLERTON AVE</td>\n",
       "      <td>IL</td>\n",
       "      <td>CHICAGO</td>\n",
       "      <td>60614.0</td>\n",
       "      <td>2014-01-16T00:00:00</td>\n",
       "      <td>Canvass</td>\n",
       "      <td>Out of Business</td>\n",
       "      <td>NaN</td>\n",
       "      <td>41.925268</td>\n",
       "      <td>-87.653488</td>\n",
       "      <td>(41.925268275703296, -87.65348756413924)</td>\n",
       "    </tr>\n",
       "  </tbody>\n",
       "</table>\n",
       "</div>"
      ],
      "text/plain": [
       "   inspection_id                aka_name                            dba_name  \\\n",
       "0        1151931                 BZ MART                             bz mart   \n",
       "1        1395530            JIMMY JOHN'S                        jimmy john's   \n",
       "2        1395529                  SUBWAY                              subway   \n",
       "3        1395528  MILWAUKEE FRESH MARKET              milwaukee fresh market   \n",
       "4        1393269              DOMINICK'S  dominick's finer foods, inc. #1695   \n",
       "\n",
       "   license_number  facility_type             risk                    address  \\\n",
       "0       2304387.0  Grocery Store     Risk 3 (Low)       4701 S WESTERN BLVD    \n",
       "1       2279570.0     Restaurant    Risk 1 (High)            1519 E 55TH ST    \n",
       "2       2074313.0     Restaurant    Risk 1 (High)              51 W 79TH ST    \n",
       "3       2262155.0  Grocery Store  Risk 2 (Medium)  3647-3651 W DIVERSEY AVE    \n",
       "4         41682.0  Grocery Store    Risk 1 (High)       959 W FULLERTON AVE    \n",
       "\n",
       "  state     city      zip      inspection_date        inspection_type  \\\n",
       "0    IL  CHICAGO  60609.0  2014-01-17T00:00:00  License Re-Inspection   \n",
       "1    IL  CHICAGO  60615.0  2014-01-16T00:00:00   Short Form Complaint   \n",
       "2    IL  CHICAGO  60620.0  2014-01-16T00:00:00                Canvass   \n",
       "3    IL  CHICAGO  60647.0  2014-01-16T00:00:00              Complaint   \n",
       "4    IL  CHICAGO  60614.0  2014-01-16T00:00:00                Canvass   \n",
       "\n",
       "           results                                         violations  \\\n",
       "0             Pass  35. WALLS, CEILINGS, ATTACHED EQUIPMENT CONSTR...   \n",
       "1             Pass                                                NaN   \n",
       "2             Pass  34. FLOORS: CONSTRUCTED PER CODE, CLEANED, GOO...   \n",
       "3             Pass  34. FLOORS: CONSTRUCTED PER CODE, CLEANED, GOO...   \n",
       "4  Out of Business                                                NaN   \n",
       "\n",
       "    latitude  longitude                                  location  \n",
       "0  41.808373 -87.683726    (41.8083731277443, -87.68372600471193)  \n",
       "1  41.795083 -87.588313  (41.795082532364255, -87.58831293902966)  \n",
       "2  41.750814 -87.626711  (41.750813934830596, -87.62671100515273)  \n",
       "3  41.931776 -87.719103    (41.93177578799307, -87.7191028381685)  \n",
       "4  41.925268 -87.653488  (41.925268275703296, -87.65348756413924)  "
      ]
     },
     "execution_count": 175,
     "metadata": {},
     "output_type": "execute_result"
    }
   ],
   "source": [
    "datos.dba_name = datos.dba_name.str.lower()\n",
    "datos.loc[datos.dba_name.str.contains(\"subway\"),'dba_name'] = \"subway\"\n",
    "datos.loc[datos.dba_name.str.contains(\"dunkin\"),'dba_name'] = \"dunkin donuts\"\n",
    "datos.loc[datos.dba_name.str.contains(\"mcdona\"),'dba_name'] = \"mcdonald's\"\n",
    "datos.loc[datos.dba_name.str.contains(\"chipotle\"),'dba_name'] = \"chipotle mexican grill\"\n",
    "datos.loc[datos.dba_name.str.contains(\"eleven\"),'dba_name'] = \"7 eleven\"\n",
    "datos.loc[datos.dba_name.str.contains(\"papa john\"),'dba_name'] = \"papa john's pizza\"\n",
    "datos.loc[datos.dba_name.str.contains(\"jamba\"),'dba_name'] = \"jamba juice\"\n",
    "datos.loc[datos.dba_name.str.contains(\"whole food\"),'dba_name'] = \"whole foods market\"\n",
    "datos.loc[datos.dba_name.str.contains(\"caesar\"),'dba_name'] = \"little caesar's pizza\"\n",
    "datos.loc[datos.dba_name.str.contains(\"domino\"),'dba_name'] = \"domino's pizza\"\n",
    "datos.loc[datos.dba_name.str.contains(\"freshii\"),'dba_name'] = \"freshii\"\n",
    "datos.loc[datos.dba_name.str.contains(\"jimmy john\"),'dba_name'] = \"jimmy john's\"\n",
    "datos.loc[datos.dba_name.str.contains(\"kentucky\"),'dba_name'] = \"kfc\"\n",
    "datos.loc[datos.dba_name.str.contains(\"kfc\"),'dba_name'] = \"kfc\"\n",
    "datos.loc[datos.dba_name.str.contains(\"starbucks\"),'dba_name'] = \"starbucks\"\n",
    "datos.loc[datos.dba_name.str.contains(\"burger king\"),'dba_name'] = \"burger king\"\n",
    "datos.loc[datos.dba_name.str.contains(\"popeyes\"),'dba_name'] = \"popeyes\"\n",
    "datos.loc[datos.dba_name.str.contains(\"wendy\"),'dba_name'] = \"wendy's\"\n",
    "datos.loc[datos.dba_name.str.contains(\"pizza hut\"),'dba_name'] = \"pizza hut\"\n",
    "datos.loc[datos.dba_name.str.contains(\"j & j\"),'dba_name'] = \"j & j\"\n",
    "datos.loc[datos.dba_name.str.contains(\"boston market\"),'dba_name'] = \"boston market\"\n",
    "datos.loc[datos.dba_name.str.contains(\"church's chicken\"),'dba_name'] = \"church's chicken\"\n",
    "datos.loc[datos.dba_name.str.contains(\"family dollar\"), 'dba_name'] = \"family dollar\"\n",
    "datos.loc[datos.dba_name.str.contains(\"panda express\"), 'dba_name'] = \"panda express\"\n",
    "datos.loc[datos.dba_name.str.contains(\"jewel food\"), 'dba_name'] = \"jewel food\" \n",
    "datos.loc[datos.dba_name.str.contains(\"afc\"), 'dba_name'] = \"afc sushi\"\n",
    "datos.head()"
   ]
  },
  {
   "cell_type": "markdown",
   "metadata": {},
   "source": [
    "~Explicación~"
   ]
  },
  {
   "cell_type": "code",
   "execution_count": 176,
   "metadata": {
    "scrolled": false
   },
   "outputs": [
    {
     "data": {
      "text/html": [
       "<div>\n",
       "<style scoped>\n",
       "    .dataframe tbody tr th:only-of-type {\n",
       "        vertical-align: middle;\n",
       "    }\n",
       "\n",
       "    .dataframe tbody tr th {\n",
       "        vertical-align: top;\n",
       "    }\n",
       "\n",
       "    .dataframe thead th {\n",
       "        text-align: right;\n",
       "    }\n",
       "</style>\n",
       "<table border=\"1\" class=\"dataframe\">\n",
       "  <thead>\n",
       "    <tr style=\"text-align: right;\">\n",
       "      <th></th>\n",
       "      <th>inspection_id</th>\n",
       "      <th>aka_name</th>\n",
       "      <th>dba_name</th>\n",
       "      <th>license_number</th>\n",
       "      <th>facility_type</th>\n",
       "      <th>risk</th>\n",
       "      <th>address</th>\n",
       "      <th>state</th>\n",
       "      <th>city</th>\n",
       "      <th>zip</th>\n",
       "      <th>inspection_date</th>\n",
       "      <th>inspection_type</th>\n",
       "      <th>results</th>\n",
       "      <th>violations</th>\n",
       "      <th>latitude</th>\n",
       "      <th>longitude</th>\n",
       "      <th>location</th>\n",
       "    </tr>\n",
       "  </thead>\n",
       "  <tbody>\n",
       "    <tr>\n",
       "      <th>0</th>\n",
       "      <td>1151931</td>\n",
       "      <td>BZ MART</td>\n",
       "      <td>bz mart</td>\n",
       "      <td>2304387.0</td>\n",
       "      <td>Grocery Store</td>\n",
       "      <td>Risk 3 (Low)</td>\n",
       "      <td>4701 S WESTERN BLVD</td>\n",
       "      <td>IL</td>\n",
       "      <td>CHICAGO</td>\n",
       "      <td>60609.0</td>\n",
       "      <td>2014-01-17T00:00:00</td>\n",
       "      <td>License Re-Inspection</td>\n",
       "      <td>Pass</td>\n",
       "      <td>35. WALLS, CEILINGS, ATTACHED EQUIPMENT CONSTR...</td>\n",
       "      <td>41.808373</td>\n",
       "      <td>-87.683726</td>\n",
       "      <td>(41.8083731277443, -87.68372600471193)</td>\n",
       "    </tr>\n",
       "    <tr>\n",
       "      <th>1</th>\n",
       "      <td>1395530</td>\n",
       "      <td>JIMMY JOHN'S</td>\n",
       "      <td>jimmy john's</td>\n",
       "      <td>2279570.0</td>\n",
       "      <td>Restaurant</td>\n",
       "      <td>Risk 1 (High)</td>\n",
       "      <td>1519 E 55TH ST</td>\n",
       "      <td>IL</td>\n",
       "      <td>CHICAGO</td>\n",
       "      <td>60615.0</td>\n",
       "      <td>2014-01-16T00:00:00</td>\n",
       "      <td>Short Form Complaint</td>\n",
       "      <td>Pass</td>\n",
       "      <td>NaN</td>\n",
       "      <td>41.795083</td>\n",
       "      <td>-87.588313</td>\n",
       "      <td>(41.795082532364255, -87.58831293902966)</td>\n",
       "    </tr>\n",
       "    <tr>\n",
       "      <th>2</th>\n",
       "      <td>1395529</td>\n",
       "      <td>SUBWAY</td>\n",
       "      <td>subway</td>\n",
       "      <td>2074313.0</td>\n",
       "      <td>Restaurant</td>\n",
       "      <td>Risk 1 (High)</td>\n",
       "      <td>51 W 79TH ST</td>\n",
       "      <td>IL</td>\n",
       "      <td>CHICAGO</td>\n",
       "      <td>60620.0</td>\n",
       "      <td>2014-01-16T00:00:00</td>\n",
       "      <td>Canvass</td>\n",
       "      <td>Pass</td>\n",
       "      <td>34. FLOORS: CONSTRUCTED PER CODE, CLEANED, GOO...</td>\n",
       "      <td>41.750814</td>\n",
       "      <td>-87.626711</td>\n",
       "      <td>(41.750813934830596, -87.62671100515273)</td>\n",
       "    </tr>\n",
       "    <tr>\n",
       "      <th>3</th>\n",
       "      <td>1395528</td>\n",
       "      <td>MILWAUKEE FRESH MARKET</td>\n",
       "      <td>milwaukee fresh market</td>\n",
       "      <td>2262155.0</td>\n",
       "      <td>Grocery Store</td>\n",
       "      <td>Risk 2 (Medium)</td>\n",
       "      <td>3647-3651 W DIVERSEY AVE</td>\n",
       "      <td>IL</td>\n",
       "      <td>CHICAGO</td>\n",
       "      <td>60647.0</td>\n",
       "      <td>2014-01-16T00:00:00</td>\n",
       "      <td>Complaint</td>\n",
       "      <td>Pass</td>\n",
       "      <td>34. FLOORS: CONSTRUCTED PER CODE, CLEANED, GOO...</td>\n",
       "      <td>41.931776</td>\n",
       "      <td>-87.719103</td>\n",
       "      <td>(41.93177578799307, -87.7191028381685)</td>\n",
       "    </tr>\n",
       "    <tr>\n",
       "      <th>4</th>\n",
       "      <td>1393269</td>\n",
       "      <td>DOMINICK'S</td>\n",
       "      <td>dominick's finer foods, inc. #1695</td>\n",
       "      <td>41682.0</td>\n",
       "      <td>Grocery Store</td>\n",
       "      <td>Risk 1 (High)</td>\n",
       "      <td>959 W FULLERTON AVE</td>\n",
       "      <td>IL</td>\n",
       "      <td>CHICAGO</td>\n",
       "      <td>60614.0</td>\n",
       "      <td>2014-01-16T00:00:00</td>\n",
       "      <td>Canvass</td>\n",
       "      <td>Out of Business</td>\n",
       "      <td>NaN</td>\n",
       "      <td>41.925268</td>\n",
       "      <td>-87.653488</td>\n",
       "      <td>(41.925268275703296, -87.65348756413924)</td>\n",
       "    </tr>\n",
       "  </tbody>\n",
       "</table>\n",
       "</div>"
      ],
      "text/plain": [
       "   inspection_id                aka_name                            dba_name  \\\n",
       "0        1151931                 BZ MART                             bz mart   \n",
       "1        1395530            JIMMY JOHN'S                        jimmy john's   \n",
       "2        1395529                  SUBWAY                              subway   \n",
       "3        1395528  MILWAUKEE FRESH MARKET              milwaukee fresh market   \n",
       "4        1393269              DOMINICK'S  dominick's finer foods, inc. #1695   \n",
       "\n",
       "   license_number  facility_type             risk                    address  \\\n",
       "0       2304387.0  Grocery Store     Risk 3 (Low)       4701 S WESTERN BLVD    \n",
       "1       2279570.0     Restaurant    Risk 1 (High)            1519 E 55TH ST    \n",
       "2       2074313.0     Restaurant    Risk 1 (High)              51 W 79TH ST    \n",
       "3       2262155.0  Grocery Store  Risk 2 (Medium)  3647-3651 W DIVERSEY AVE    \n",
       "4         41682.0  Grocery Store    Risk 1 (High)       959 W FULLERTON AVE    \n",
       "\n",
       "  state     city      zip      inspection_date        inspection_type  \\\n",
       "0    IL  CHICAGO  60609.0  2014-01-17T00:00:00  License Re-Inspection   \n",
       "1    IL  CHICAGO  60615.0  2014-01-16T00:00:00   Short Form Complaint   \n",
       "2    IL  CHICAGO  60620.0  2014-01-16T00:00:00                Canvass   \n",
       "3    IL  CHICAGO  60647.0  2014-01-16T00:00:00              Complaint   \n",
       "4    IL  CHICAGO  60614.0  2014-01-16T00:00:00                Canvass   \n",
       "\n",
       "           results                                         violations  \\\n",
       "0             Pass  35. WALLS, CEILINGS, ATTACHED EQUIPMENT CONSTR...   \n",
       "1             Pass                                                NaN   \n",
       "2             Pass  34. FLOORS: CONSTRUCTED PER CODE, CLEANED, GOO...   \n",
       "3             Pass  34. FLOORS: CONSTRUCTED PER CODE, CLEANED, GOO...   \n",
       "4  Out of Business                                                NaN   \n",
       "\n",
       "    latitude  longitude                                  location  \n",
       "0  41.808373 -87.683726    (41.8083731277443, -87.68372600471193)  \n",
       "1  41.795083 -87.588313  (41.795082532364255, -87.58831293902966)  \n",
       "2  41.750814 -87.626711  (41.750813934830596, -87.62671100515273)  \n",
       "3  41.931776 -87.719103    (41.93177578799307, -87.7191028381685)  \n",
       "4  41.925268 -87.653488  (41.925268275703296, -87.65348756413924)  "
      ]
     },
     "execution_count": 176,
     "metadata": {},
     "output_type": "execute_result"
    }
   ],
   "source": [
    "datos.drop_duplicates(subset = ('dba_name', 'address', 'zip' , 'inspection_date'), keep = \"first\", inplace = True)\n",
    "datos.head()"
   ]
  },
  {
   "cell_type": "markdown",
   "metadata": {},
   "source": [
    "~Explicación~"
   ]
  },
  {
   "cell_type": "code",
   "execution_count": 177,
   "metadata": {
    "scrolled": false
   },
   "outputs": [
    {
     "data": {
      "text/html": [
       "<div>\n",
       "<style scoped>\n",
       "    .dataframe tbody tr th:only-of-type {\n",
       "        vertical-align: middle;\n",
       "    }\n",
       "\n",
       "    .dataframe tbody tr th {\n",
       "        vertical-align: top;\n",
       "    }\n",
       "\n",
       "    .dataframe thead th {\n",
       "        text-align: right;\n",
       "    }\n",
       "</style>\n",
       "<table border=\"1\" class=\"dataframe\">\n",
       "  <thead>\n",
       "    <tr style=\"text-align: right;\">\n",
       "      <th></th>\n",
       "      <th>dba_name</th>\n",
       "      <th>facility_type</th>\n",
       "      <th>risk</th>\n",
       "      <th>address</th>\n",
       "      <th>zip</th>\n",
       "      <th>inspection_date</th>\n",
       "      <th>inspection_type</th>\n",
       "      <th>results</th>\n",
       "      <th>violations</th>\n",
       "      <th>latitude</th>\n",
       "      <th>longitude</th>\n",
       "      <th>location</th>\n",
       "    </tr>\n",
       "  </thead>\n",
       "  <tbody>\n",
       "    <tr>\n",
       "      <th>0</th>\n",
       "      <td>bz mart</td>\n",
       "      <td>Grocery Store</td>\n",
       "      <td>Risk 3 (Low)</td>\n",
       "      <td>4701 S WESTERN BLVD</td>\n",
       "      <td>60609.0</td>\n",
       "      <td>2014-01-17T00:00:00</td>\n",
       "      <td>License Re-Inspection</td>\n",
       "      <td>Pass</td>\n",
       "      <td>35. WALLS, CEILINGS, ATTACHED EQUIPMENT CONSTR...</td>\n",
       "      <td>41.808373</td>\n",
       "      <td>-87.683726</td>\n",
       "      <td>(41.8083731277443, -87.68372600471193)</td>\n",
       "    </tr>\n",
       "    <tr>\n",
       "      <th>2</th>\n",
       "      <td>subway</td>\n",
       "      <td>Restaurant</td>\n",
       "      <td>Risk 1 (High)</td>\n",
       "      <td>51 W 79TH ST</td>\n",
       "      <td>60620.0</td>\n",
       "      <td>2014-01-16T00:00:00</td>\n",
       "      <td>Canvass</td>\n",
       "      <td>Pass</td>\n",
       "      <td>34. FLOORS: CONSTRUCTED PER CODE, CLEANED, GOO...</td>\n",
       "      <td>41.750814</td>\n",
       "      <td>-87.626711</td>\n",
       "      <td>(41.750813934830596, -87.62671100515273)</td>\n",
       "    </tr>\n",
       "    <tr>\n",
       "      <th>3</th>\n",
       "      <td>milwaukee fresh market</td>\n",
       "      <td>Grocery Store</td>\n",
       "      <td>Risk 2 (Medium)</td>\n",
       "      <td>3647-3651 W DIVERSEY AVE</td>\n",
       "      <td>60647.0</td>\n",
       "      <td>2014-01-16T00:00:00</td>\n",
       "      <td>Complaint</td>\n",
       "      <td>Pass</td>\n",
       "      <td>34. FLOORS: CONSTRUCTED PER CODE, CLEANED, GOO...</td>\n",
       "      <td>41.931776</td>\n",
       "      <td>-87.719103</td>\n",
       "      <td>(41.93177578799307, -87.7191028381685)</td>\n",
       "    </tr>\n",
       "    <tr>\n",
       "      <th>5</th>\n",
       "      <td>subway</td>\n",
       "      <td>Restaurant</td>\n",
       "      <td>Risk 1 (High)</td>\n",
       "      <td>1100 W TAYLOR ST</td>\n",
       "      <td>60607.0</td>\n",
       "      <td>2014-01-16T00:00:00</td>\n",
       "      <td>Complaint</td>\n",
       "      <td>Pass w/ Conditions</td>\n",
       "      <td>21. * CERTIFIED FOOD MANAGER ON SITE WHEN POTE...</td>\n",
       "      <td>41.869566</td>\n",
       "      <td>-87.654278</td>\n",
       "      <td>(41.86956628158364, -87.65427837887948)</td>\n",
       "    </tr>\n",
       "    <tr>\n",
       "      <th>6</th>\n",
       "      <td>chop suey kitchen</td>\n",
       "      <td>Restaurant</td>\n",
       "      <td>Risk 1 (High)</td>\n",
       "      <td>5353 W MADISON ST</td>\n",
       "      <td>60644.0</td>\n",
       "      <td>2014-01-16T00:00:00</td>\n",
       "      <td>Canvass</td>\n",
       "      <td>Pass</td>\n",
       "      <td>30. FOOD IN ORIGINAL CONTAINER, PROPERLY LABEL...</td>\n",
       "      <td>41.880205</td>\n",
       "      <td>-87.759586</td>\n",
       "      <td>(41.880205089634494, -87.75958648612682)</td>\n",
       "    </tr>\n",
       "  </tbody>\n",
       "</table>\n",
       "</div>"
      ],
      "text/plain": [
       "                 dba_name  facility_type             risk  \\\n",
       "0                 bz mart  Grocery Store     Risk 3 (Low)   \n",
       "2                  subway     Restaurant    Risk 1 (High)   \n",
       "3  milwaukee fresh market  Grocery Store  Risk 2 (Medium)   \n",
       "5                  subway     Restaurant    Risk 1 (High)   \n",
       "6       chop suey kitchen     Restaurant    Risk 1 (High)   \n",
       "\n",
       "                     address      zip      inspection_date  \\\n",
       "0       4701 S WESTERN BLVD   60609.0  2014-01-17T00:00:00   \n",
       "2              51 W 79TH ST   60620.0  2014-01-16T00:00:00   \n",
       "3  3647-3651 W DIVERSEY AVE   60647.0  2014-01-16T00:00:00   \n",
       "5          1100 W TAYLOR ST   60607.0  2014-01-16T00:00:00   \n",
       "6         5353 W MADISON ST   60644.0  2014-01-16T00:00:00   \n",
       "\n",
       "         inspection_type             results  \\\n",
       "0  License Re-Inspection                Pass   \n",
       "2                Canvass                Pass   \n",
       "3              Complaint                Pass   \n",
       "5              Complaint  Pass w/ Conditions   \n",
       "6                Canvass                Pass   \n",
       "\n",
       "                                          violations   latitude  longitude  \\\n",
       "0  35. WALLS, CEILINGS, ATTACHED EQUIPMENT CONSTR...  41.808373 -87.683726   \n",
       "2  34. FLOORS: CONSTRUCTED PER CODE, CLEANED, GOO...  41.750814 -87.626711   \n",
       "3  34. FLOORS: CONSTRUCTED PER CODE, CLEANED, GOO...  41.931776 -87.719103   \n",
       "5  21. * CERTIFIED FOOD MANAGER ON SITE WHEN POTE...  41.869566 -87.654278   \n",
       "6  30. FOOD IN ORIGINAL CONTAINER, PROPERLY LABEL...  41.880205 -87.759586   \n",
       "\n",
       "                                   location  \n",
       "0    (41.8083731277443, -87.68372600471193)  \n",
       "2  (41.750813934830596, -87.62671100515273)  \n",
       "3    (41.93177578799307, -87.7191028381685)  \n",
       "5   (41.86956628158364, -87.65427837887948)  \n",
       "6  (41.880205089634494, -87.75958648612682)  "
      ]
     },
     "execution_count": 177,
     "metadata": {},
     "output_type": "execute_result"
    }
   ],
   "source": [
    "datos = datos[datos.latitude.isnull() == False]  \n",
    "datos = datos[datos.longitude.isnull() == False]\n",
    "datos = datos[datos.violations.isnull() == False]\n",
    "datos = datos[datos.city == \"CHICAGO\"]\n",
    "del datos['aka_name']\n",
    "del datos['license_number']\n",
    "del datos['inspection_id']\n",
    "del datos['state']\n",
    "del datos['city']\n",
    "datos.head()"
   ]
  },
  {
   "cell_type": "markdown",
   "metadata": {},
   "source": [
    "~Explicación~"
   ]
  },
  {
   "cell_type": "code",
   "execution_count": 178,
   "metadata": {},
   "outputs": [
    {
     "data": {
      "text/plain": [
       "Restaurant                         13753\n",
       "Grocery Store                       2393\n",
       "School                              1351\n",
       "Bakery                               355\n",
       "Children's Services Facility         327\n",
       "Daycare Above and Under 2 Years      243\n",
       "Daycare (2 - 6 Years)                220\n",
       "Long Term Care                       152\n",
       "Catering                              89\n",
       "Mobile Food Preparer                  78\n",
       "Daycare Combo 1586                    67\n",
       "Liquor                                62\n",
       "Golden Diner                          45\n",
       "Hospital                              43\n",
       "TAVERN                                34\n",
       "Mobile Food Dispenser                 26\n",
       "Daycare (Under 2 Years)               20\n",
       "GAS STATION                           13\n",
       "Special Event                         12\n",
       "Wholesale                             11\n",
       "Name: facility_type, dtype: int64"
      ]
     },
     "execution_count": 178,
     "metadata": {},
     "output_type": "execute_result"
    }
   ],
   "source": [
    "datos.facility_type.value_counts().head(20)"
   ]
  },
  {
   "cell_type": "markdown",
   "metadata": {},
   "source": [
    "~Explicación~"
   ]
  },
  {
   "cell_type": "code",
   "execution_count": 179,
   "metadata": {},
   "outputs": [
    {
     "data": {
      "text/plain": [
       "0    13783\n",
       "1     5866\n",
       "Name: facility_type, dtype: int64"
      ]
     },
     "execution_count": 179,
     "metadata": {},
     "output_type": "execute_result"
    }
   ],
   "source": [
    "datos.facility_type = datos.facility_type.str.lower()\n",
    "datos.loc[datos.facility_type.str.contains(\"restaurant\", na = False),'facility_type'] = \"restaurant\"\n",
    "datos.loc[datos.facility_type.str.contains(\"restaurant\", na = False) == False,'facility_type'] = 1\n",
    "datos.loc[datos.facility_type.str.contains(\"restaurant\", na = False),'facility_type'] = 0\n",
    "datos.facility_type.value_counts()"
   ]
  },
  {
   "cell_type": "markdown",
   "metadata": {},
   "source": [
    "~Explicación~"
   ]
  },
  {
   "cell_type": "code",
   "execution_count": 180,
   "metadata": {},
   "outputs": [
    {
     "data": {
      "text/plain": [
       "Pass                  11591\n",
       "Fail                   4815\n",
       "Pass w/ Conditions     3108\n",
       "No Entry                125\n",
       "Not Ready                 8\n",
       "Out of Business           2\n",
       "Name: results, dtype: int64"
      ]
     },
     "execution_count": 180,
     "metadata": {},
     "output_type": "execute_result"
    }
   ],
   "source": [
    "datos.results.value_counts()"
   ]
  },
  {
   "cell_type": "markdown",
   "metadata": {},
   "source": [
    "~Explicación~"
   ]
  },
  {
   "cell_type": "code",
   "execution_count": 181,
   "metadata": {},
   "outputs": [
    {
     "data": {
      "text/plain": [
       "0    11591\n",
       "1     8056\n",
       "Name: results, dtype: int64"
      ]
     },
     "execution_count": 181,
     "metadata": {},
     "output_type": "execute_result"
    }
   ],
   "source": [
    "datos = datos.loc[datos.results.str.contains(\"Business\", na = False) == False]\n",
    "datos.loc[datos.results.str.contains(\"Conditions\", na = False),'results'] = \"Fail\"\n",
    "datos.loc[datos.results.str.contains(\"Pass\", na = False) == False,'results'] = \"Fail\"\n",
    "datos.loc[datos.results.str.contains(\"Pass\", na = False),'results'] = 0\n",
    "datos.loc[datos.results.str.contains(\"Fail\", na = False),'results'] = 1\n",
    "datos.results.value_counts()"
   ]
  },
  {
   "cell_type": "markdown",
   "metadata": {},
   "source": [
    "~Explicación~"
   ]
  },
  {
   "cell_type": "code",
   "execution_count": 182,
   "metadata": {},
   "outputs": [
    {
     "data": {
      "text/plain": [
       "Canvass                                   10757\n",
       "Complaint                                  2464\n",
       "Canvass Re-Inspection                      2322\n",
       "License                                    2063\n",
       "Complaint Re-Inspection                     843\n",
       "Short Form Complaint                        535\n",
       "License Re-Inspection                       532\n",
       "Suspected Food Poisoning                     58\n",
       "Recent Inspection                            31\n",
       "Consultation                                 20\n",
       "Suspected Food Poisoning Re-inspection       13\n",
       "Non-Inspection                                4\n",
       "Complaint-Fire                                3\n",
       "Short Form Fire-Complaint                     2\n",
       "Name: inspection_type, dtype: int64"
      ]
     },
     "execution_count": 182,
     "metadata": {},
     "output_type": "execute_result"
    }
   ],
   "source": [
    "datos.inspection_type.value_counts()"
   ]
  },
  {
   "cell_type": "markdown",
   "metadata": {},
   "source": [
    "~Explicación~"
   ]
  },
  {
   "cell_type": "code",
   "execution_count": 183,
   "metadata": {},
   "outputs": [
    {
     "data": {
      "text/plain": [
       "0    10757\n",
       "1     8890\n",
       "Name: inspection_type, dtype: int64"
      ]
     },
     "execution_count": 183,
     "metadata": {},
     "output_type": "execute_result"
    }
   ],
   "source": [
    "datos.loc[datos.inspection_type.str.contains(\"Re-Inspection\", na = False),'inspection_type'] = \"other\"\n",
    "datos.loc[datos.inspection_type.str.contains(\"Canvass\", na = False) == False,'inspection_type'] = \"other\"\n",
    "datos.loc[datos.inspection_type.str.contains(\"Canvass\", na = False),'inspection_type'] = 0\n",
    "datos.loc[datos.inspection_type.str.contains(\"other\", na = False),'inspection_type'] = 1\n",
    "datos.inspection_type.value_counts()"
   ]
  },
  {
   "cell_type": "markdown",
   "metadata": {},
   "source": [
    "~Explicación~"
   ]
  },
  {
   "cell_type": "markdown",
   "metadata": {},
   "source": [
    "~Explicación~"
   ]
  },
  {
   "cell_type": "code",
   "execution_count": 184,
   "metadata": {},
   "outputs": [
    {
     "data": {
      "text/plain": [
       "2    14715\n",
       "1     3960\n",
       "0      972\n",
       "Name: risk, dtype: int64"
      ]
     },
     "execution_count": 184,
     "metadata": {},
     "output_type": "execute_result"
    }
   ],
   "source": [
    "datos.loc[datos.risk.str.contains(\"Low\", na = False),'risk'] = 0\n",
    "datos.loc[datos.risk.str.contains(\"Medium\", na = False),'risk'] = 1\n",
    "datos.loc[datos.risk.str.contains(\"High\", na = False),'risk'] = 2\n",
    "datos.risk.value_counts()"
   ]
  },
  {
   "cell_type": "markdown",
   "metadata": {},
   "source": [
    "~Explicación~"
   ]
  },
  {
   "cell_type": "code",
   "execution_count": 189,
   "metadata": {},
   "outputs": [
    {
     "data": {
      "text/plain": [
       "0.0    11701\n",
       "1.0     7946\n",
       "Name: violations, dtype: int64"
      ]
     },
     "execution_count": 189,
     "metadata": {},
     "output_type": "execute_result"
    }
   ],
   "source": [
    "datos.violations = datos.violations[:].str[0:2]\n",
    "datos.violations = pd.to_numeric(datos.violations, errors='coerce')\n",
    "datos.loc[datos.violations < 30,'violations'] = 1\n",
    "datos.loc[datos.violations > 29,'violations'] = 0\n",
    "datos.violations.value_counts()"
   ]
  },
  {
   "cell_type": "markdown",
   "metadata": {},
   "source": [
    "~Explicación~"
   ]
  },
  {
   "cell_type": "code",
   "execution_count": 188,
   "metadata": {},
   "outputs": [
    {
     "data": {
      "text/plain": [
       "1    12835\n",
       "0     6812\n",
       "Name: north_south, dtype: int64"
      ]
     },
     "execution_count": 188,
     "metadata": {},
     "output_type": "execute_result"
    }
   ],
   "source": [
    "datos['north_south'] = 0\n",
    "datos.loc[datos.latitude > 41.87, 'north_south'] = 1\n",
    "datos.north_south.value_counts()"
   ]
  },
  {
   "cell_type": "markdown",
   "metadata": {},
   "source": [
    "~Explicación~"
   ]
  },
  {
   "cell_type": "code",
   "execution_count": 190,
   "metadata": {},
   "outputs": [
    {
     "data": {
      "text/plain": [
       "4    4201\n",
       "0    3942\n",
       "3    2846\n",
       "2    2689\n",
       "5    1380\n",
       "1    1315\n",
       "6    1214\n",
       "8    1212\n",
       "7     848\n",
       "Name: community, dtype: int64"
      ]
     },
     "execution_count": 190,
     "metadata": {},
     "output_type": "execute_result"
    }
   ],
   "source": [
    "datos['community'] = -1\n",
    "Far_North_Side = [60666, 60631, 60656, 60646, 60630, 60625, 60659, 60626,60640, 60660, 60645, 60613]\n",
    "datos.loc[datos.zip.isin(Far_North_Side), 'community'] = 0\n",
    "North_West_Side = [60634, 60641, 60171, 60707, 60639]\n",
    "datos.loc[datos.zip.isin(North_West_Side), 'community'] = 1\n",
    "North_Side = [60618, 60657, 60647, 60614]\n",
    "datos.loc[datos.zip.isin(North_Side), 'community'] = 2\n",
    "West_Side = [60651, 60622, 60642, 60644, 60624, 60612, 60623, 60608]\n",
    "datos.loc[datos.zip.isin(West_Side), 'community'] = 3\n",
    "Central = [60610, 60611, 60654, 60601, 60607, 60605, 60616, 60661,60606,60603, 60602, 60604]\n",
    "datos.loc[datos.zip.isin(Central), 'community'] = 4\n",
    "South_west_side = [60638, 60632, 60609, 60629]\n",
    "datos.loc[datos.zip.isin(South_west_side), 'community'] = 5\n",
    "South_Side = [60653, 60621, 60615, 60637, 60649, 60636]\n",
    "datos.loc[datos.zip.isin(South_Side), 'community'] = 6\n",
    "Far_Southwest_Side = [60652, 60620, 60655, 60643]\n",
    "datos.loc[datos.zip.isin(Far_Southwest_Side), 'community'] = 7\n",
    "Far_Southeast_Side = [60619, 60628, 60617, 60827, 60633]\n",
    "datos.loc[datos.zip.isin(Far_Southeast_Side), 'community'] = 8\n",
    "datos.community.value_counts()"
   ]
  },
  {
   "cell_type": "markdown",
   "metadata": {},
   "source": [
    "~Explicación~"
   ]
  },
  {
   "cell_type": "code",
   "execution_count": 191,
   "metadata": {},
   "outputs": [],
   "source": [
    "datos['life_exp'] = 0\n",
    "alta = [0,1,2]\n",
    "normal= [3,4,5]\n",
    "baja = [6,7,8]\n",
    "datos.loc[datos.community.isin(alta), 'life_exp'] = 2\n",
    "datos.loc[datos.community.isin(normal), 'life_exp'] = 1\n",
    "datos.loc[datos.community.isin(baja), 'life_exp'] = 0"
   ]
  },
  {
   "cell_type": "markdown",
   "metadata": {},
   "source": [
    "~Explicación~"
   ]
  },
  {
   "cell_type": "code",
   "execution_count": 192,
   "metadata": {},
   "outputs": [],
   "source": [
    "datos['crime_rate'] = 0\n",
    "seguro = [0, 1, 5]\n",
    "normal = [2, 7]\n",
    "inseguro = [3,4,6,8]\n",
    "datos.loc[datos.community.isin(seguro), 'crime_rate'] = 2\n",
    "datos.loc[datos.community.isin(normal), 'crime_rate'] = 1\n",
    "datos.loc[datos.community.isin(inseguro), 'crime_rate'] = 0"
   ]
  },
  {
   "cell_type": "markdown",
   "metadata": {},
   "source": [
    "~Explicación~"
   ]
  },
  {
   "cell_type": "code",
   "execution_count": 193,
   "metadata": {},
   "outputs": [
    {
     "data": {
      "text/html": [
       "<div>\n",
       "<style scoped>\n",
       "    .dataframe tbody tr th:only-of-type {\n",
       "        vertical-align: middle;\n",
       "    }\n",
       "\n",
       "    .dataframe tbody tr th {\n",
       "        vertical-align: top;\n",
       "    }\n",
       "\n",
       "    .dataframe thead th {\n",
       "        text-align: right;\n",
       "    }\n",
       "</style>\n",
       "<table border=\"1\" class=\"dataframe\">\n",
       "  <thead>\n",
       "    <tr style=\"text-align: right;\">\n",
       "      <th></th>\n",
       "      <th>dba_name</th>\n",
       "      <th>facility_type</th>\n",
       "      <th>risk</th>\n",
       "      <th>address</th>\n",
       "      <th>zip</th>\n",
       "      <th>inspection_date</th>\n",
       "      <th>inspection_type</th>\n",
       "      <th>results</th>\n",
       "      <th>violations</th>\n",
       "      <th>latitude</th>\n",
       "      <th>longitude</th>\n",
       "      <th>location</th>\n",
       "      <th>north_south</th>\n",
       "      <th>community</th>\n",
       "      <th>life_exp</th>\n",
       "      <th>crime_rate</th>\n",
       "      <th>pob_density</th>\n",
       "    </tr>\n",
       "  </thead>\n",
       "  <tbody>\n",
       "    <tr>\n",
       "      <th>0</th>\n",
       "      <td>bz mart</td>\n",
       "      <td>1</td>\n",
       "      <td>0</td>\n",
       "      <td>4701 S WESTERN BLVD</td>\n",
       "      <td>60609.0</td>\n",
       "      <td>2014-01-17T00:00:00</td>\n",
       "      <td>1</td>\n",
       "      <td>0</td>\n",
       "      <td>0.0</td>\n",
       "      <td>41.808373</td>\n",
       "      <td>-87.683726</td>\n",
       "      <td>(41.8083731277443, -87.68372600471193)</td>\n",
       "      <td>0</td>\n",
       "      <td>5</td>\n",
       "      <td>1</td>\n",
       "      <td>2</td>\n",
       "      <td>1</td>\n",
       "    </tr>\n",
       "    <tr>\n",
       "      <th>2</th>\n",
       "      <td>subway</td>\n",
       "      <td>0</td>\n",
       "      <td>2</td>\n",
       "      <td>51 W 79TH ST</td>\n",
       "      <td>60620.0</td>\n",
       "      <td>2014-01-16T00:00:00</td>\n",
       "      <td>0</td>\n",
       "      <td>0</td>\n",
       "      <td>0.0</td>\n",
       "      <td>41.750814</td>\n",
       "      <td>-87.626711</td>\n",
       "      <td>(41.750813934830596, -87.62671100515273)</td>\n",
       "      <td>0</td>\n",
       "      <td>7</td>\n",
       "      <td>0</td>\n",
       "      <td>1</td>\n",
       "      <td>1</td>\n",
       "    </tr>\n",
       "    <tr>\n",
       "      <th>3</th>\n",
       "      <td>milwaukee fresh market</td>\n",
       "      <td>1</td>\n",
       "      <td>1</td>\n",
       "      <td>3647-3651 W DIVERSEY AVE</td>\n",
       "      <td>60647.0</td>\n",
       "      <td>2014-01-16T00:00:00</td>\n",
       "      <td>1</td>\n",
       "      <td>0</td>\n",
       "      <td>0.0</td>\n",
       "      <td>41.931776</td>\n",
       "      <td>-87.719103</td>\n",
       "      <td>(41.93177578799307, -87.7191028381685)</td>\n",
       "      <td>1</td>\n",
       "      <td>2</td>\n",
       "      <td>2</td>\n",
       "      <td>1</td>\n",
       "      <td>2</td>\n",
       "    </tr>\n",
       "    <tr>\n",
       "      <th>5</th>\n",
       "      <td>subway</td>\n",
       "      <td>0</td>\n",
       "      <td>2</td>\n",
       "      <td>1100 W TAYLOR ST</td>\n",
       "      <td>60607.0</td>\n",
       "      <td>2014-01-16T00:00:00</td>\n",
       "      <td>1</td>\n",
       "      <td>1</td>\n",
       "      <td>1.0</td>\n",
       "      <td>41.869566</td>\n",
       "      <td>-87.654278</td>\n",
       "      <td>(41.86956628158364, -87.65427837887948)</td>\n",
       "      <td>0</td>\n",
       "      <td>4</td>\n",
       "      <td>1</td>\n",
       "      <td>0</td>\n",
       "      <td>2</td>\n",
       "    </tr>\n",
       "    <tr>\n",
       "      <th>6</th>\n",
       "      <td>chop suey kitchen</td>\n",
       "      <td>0</td>\n",
       "      <td>2</td>\n",
       "      <td>5353 W MADISON ST</td>\n",
       "      <td>60644.0</td>\n",
       "      <td>2014-01-16T00:00:00</td>\n",
       "      <td>0</td>\n",
       "      <td>0</td>\n",
       "      <td>0.0</td>\n",
       "      <td>41.880205</td>\n",
       "      <td>-87.759586</td>\n",
       "      <td>(41.880205089634494, -87.75958648612682)</td>\n",
       "      <td>1</td>\n",
       "      <td>3</td>\n",
       "      <td>1</td>\n",
       "      <td>0</td>\n",
       "      <td>2</td>\n",
       "    </tr>\n",
       "  </tbody>\n",
       "</table>\n",
       "</div>"
      ],
      "text/plain": [
       "                 dba_name  facility_type  risk                    address  \\\n",
       "0                 bz mart              1     0       4701 S WESTERN BLVD    \n",
       "2                  subway              0     2              51 W 79TH ST    \n",
       "3  milwaukee fresh market              1     1  3647-3651 W DIVERSEY AVE    \n",
       "5                  subway              0     2          1100 W TAYLOR ST    \n",
       "6       chop suey kitchen              0     2         5353 W MADISON ST    \n",
       "\n",
       "       zip      inspection_date  inspection_type  results  violations  \\\n",
       "0  60609.0  2014-01-17T00:00:00                1        0         0.0   \n",
       "2  60620.0  2014-01-16T00:00:00                0        0         0.0   \n",
       "3  60647.0  2014-01-16T00:00:00                1        0         0.0   \n",
       "5  60607.0  2014-01-16T00:00:00                1        1         1.0   \n",
       "6  60644.0  2014-01-16T00:00:00                0        0         0.0   \n",
       "\n",
       "    latitude  longitude                                  location  \\\n",
       "0  41.808373 -87.683726    (41.8083731277443, -87.68372600471193)   \n",
       "2  41.750814 -87.626711  (41.750813934830596, -87.62671100515273)   \n",
       "3  41.931776 -87.719103    (41.93177578799307, -87.7191028381685)   \n",
       "5  41.869566 -87.654278   (41.86956628158364, -87.65427837887948)   \n",
       "6  41.880205 -87.759586  (41.880205089634494, -87.75958648612682)   \n",
       "\n",
       "   north_south  community  life_exp  crime_rate  pob_density  \n",
       "0            0          5         1           2            1  \n",
       "2            0          7         0           1            1  \n",
       "3            1          2         2           1            2  \n",
       "5            0          4         1           0            2  \n",
       "6            1          3         1           0            2  "
      ]
     },
     "execution_count": 193,
     "metadata": {},
     "output_type": "execute_result"
    }
   ],
   "source": [
    "datos['pob_density'] = 0\n",
    "Pob_densa = [1,2,3,4]\n",
    "Pob_normal = [0,5,7]\n",
    "Pob_baja = [6,8]\n",
    "datos.loc[datos.community.isin(Pob_densa), 'pob_density'] = 2\n",
    "datos.loc[datos.community.isin(Pob_normal), 'pob_density'] = 1\n",
    "datos.loc[datos.community.isin(Pob_baja), 'pob_density'] = 0\n",
    "datos.head()"
   ]
  },
  {
   "cell_type": "markdown",
   "metadata": {},
   "source": [
    "~Explicación~"
   ]
  },
  {
   "cell_type": "code",
   "execution_count": 63,
   "metadata": {},
   "outputs": [
    {
     "data": {
      "text/plain": [
       "<matplotlib.axes._subplots.AxesSubplot at 0x15b621376d8>"
      ]
     },
     "execution_count": 63,
     "metadata": {},
     "output_type": "execute_result"
    },
    {
     "data": {
      "image/png": "[encoded data removed]",
      "text/plain": [
       "<Figure size 432x288 with 1 Axes>"
      ]
     },
     "metadata": {},
     "output_type": "display_data"
    }
   ],
   "source": [
    "results_count  = pd.crosstab([datos.north_south], datos.results)\n",
    "results_count.plot.bar(stacked=True, color=['black','gold'], grid=True)"
   ]
  },
  {
   "cell_type": "markdown",
   "metadata": {},
   "source": [
    "~Expliación~"
   ]
  },
  {
   "cell_type": "code",
   "execution_count": 64,
   "metadata": {},
   "outputs": [
    {
     "data": {
      "text/plain": [
       "<matplotlib.axes._subplots.AxesSubplot at 0x15b647e7550>"
      ]
     },
     "execution_count": 64,
     "metadata": {},
     "output_type": "execute_result"
    },
    {
     "data": {
      "image/png": "[encoded data removed]",
      "text/plain": [
       "<Figure size 432x288 with 1 Axes>"
      ]
     },
     "metadata": {},
     "output_type": "display_data"
    }
   ],
   "source": [
    "results_count  = pd.crosstab([datos.life_exp], datos.results)\n",
    "results_count.plot.bar(stacked=True, color=['black','gold'], grid=True)"
   ]
  },
  {
   "cell_type": "code",
   "execution_count": 65,
   "metadata": {},
   "outputs": [
    {
     "data": {
      "text/plain": [
       "<matplotlib.axes._subplots.AxesSubplot at 0x15b62116d68>"
      ]
     },
     "execution_count": 65,
     "metadata": {},
     "output_type": "execute_result"
    },
    {
     "data": {
      "image/png": "[encoded data removed]",
      "text/plain": [
       "<Figure size 432x288 with 1 Axes>"
      ]
     },
     "metadata": {},
     "output_type": "display_data"
    }
   ],
   "source": [
    "results_count  = pd.crosstab([datos.crime_rate], datos.results)\n",
    "results_count.plot.bar(stacked=True, color=['black','gold'], grid=True)"
   ]
  },
  {
   "cell_type": "code",
   "execution_count": 66,
   "metadata": {},
   "outputs": [
    {
     "data": {
      "text/plain": [
       "<matplotlib.axes._subplots.AxesSubplot at 0x15b64897a90>"
      ]
     },
     "execution_count": 66,
     "metadata": {},
     "output_type": "execute_result"
    },
    {
     "data": {
      "image/png": "[encoded data removed]",
      "text/plain": [
       "<Figure size 432x288 with 1 Axes>"
      ]
     },
     "metadata": {},
     "output_type": "display_data"
    }
   ],
   "source": [
    "results_count  = pd.crosstab([datos.pob_density], datos.results)\n",
    "results_count.plot.bar(stacked=True, color=['black','gold'], grid=True)"
   ]
  },
  {
   "cell_type": "code",
   "execution_count": 67,
   "metadata": {},
   "outputs": [
    {
     "data": {
      "text/plain": [
       "<matplotlib.axes._subplots.AxesSubplot at 0x15b64362438>"
      ]
     },
     "execution_count": 67,
     "metadata": {},
     "output_type": "execute_result"
    },
    {
     "data": {
      "image/png": "[encoded data removed]",
      "text/plain": [
       "<Figure size 432x288 with 1 Axes>"
      ]
     },
     "metadata": {},
     "output_type": "display_data"
    }
   ],
   "source": [
    "results_count  = pd.crosstab([datos.facility_type], datos.results)\n",
    "results_count.plot.bar(stacked=True, color=['black','gold'], grid=True)"
   ]
  },
  {
   "cell_type": "code",
   "execution_count": 68,
   "metadata": {},
   "outputs": [
    {
     "data": {
      "text/plain": [
       "<matplotlib.axes._subplots.AxesSubplot at 0x15b64de6630>"
      ]
     },
     "execution_count": 68,
     "metadata": {},
     "output_type": "execute_result"
    },
    {
     "data": {
      "image/png": "[encoded data removed]",
      "text/plain": [
       "<Figure size 432x288 with 1 Axes>"
      ]
     },
     "metadata": {},
     "output_type": "display_data"
    }
   ],
   "source": [
    "results_count  = pd.crosstab([datos.risk], datos.results)\n",
    "results_count.plot.bar(stacked=True, color=['black','gold'], grid=True)"
   ]
  },
  {
   "cell_type": "code",
   "execution_count": 69,
   "metadata": {},
   "outputs": [
    {
     "data": {
      "text/plain": [
       "<matplotlib.axes._subplots.AxesSubplot at 0x15b650d19e8>"
      ]
     },
     "execution_count": 69,
     "metadata": {},
     "output_type": "execute_result"
    },
    {
     "data": {
      "image/png": "[encoded data removed]",
      "text/plain": [
       "<Figure size 432x288 with 1 Axes>"
      ]
     },
     "metadata": {},
     "output_type": "display_data"
    }
   ],
   "source": [
    "results_count  = pd.crosstab([datos.inspection_type], datos.results)\n",
    "results_count.plot.bar(stacked=True, color=['black','gold'], grid=True)"
   ]
  },
  {
   "cell_type": "code",
   "execution_count": 70,
   "metadata": {},
   "outputs": [
    {
     "data": {
      "text/plain": [
       "<matplotlib.axes._subplots.AxesSubplot at 0x15b65130160>"
      ]
     },
     "execution_count": 70,
     "metadata": {},
     "output_type": "execute_result"
    },
    {
     "data": {
      "image/png": "[encoded data removed]",
      "text/plain": [
       "<Figure size 432x288 with 1 Axes>"
      ]
     },
     "metadata": {},
     "output_type": "display_data"
    }
   ],
   "source": [
    "results_count  = pd.crosstab([datos.violations], datos.results)\n",
    "results_count.plot.bar(stacked=True, color=['black','gold'], grid=True)"
   ]
  },
  {
   "cell_type": "code",
   "execution_count": 194,
   "metadata": {},
   "outputs": [],
   "source": [
    "y = datos.pop('results')\n",
    "X = datos.copy()"
   ]
  },
  {
   "cell_type": "code",
   "execution_count": 195,
   "metadata": {},
   "outputs": [
    {
     "data": {
      "text/html": [
       "<div>\n",
       "<style scoped>\n",
       "    .dataframe tbody tr th:only-of-type {\n",
       "        vertical-align: middle;\n",
       "    }\n",
       "\n",
       "    .dataframe tbody tr th {\n",
       "        vertical-align: top;\n",
       "    }\n",
       "\n",
       "    .dataframe thead th {\n",
       "        text-align: right;\n",
       "    }\n",
       "</style>\n",
       "<table border=\"1\" class=\"dataframe\">\n",
       "  <thead>\n",
       "    <tr style=\"text-align: right;\">\n",
       "      <th></th>\n",
       "      <th>facility_type</th>\n",
       "      <th>risk</th>\n",
       "      <th>inspection_type</th>\n",
       "      <th>violations</th>\n",
       "      <th>north_south</th>\n",
       "      <th>community</th>\n",
       "      <th>life_exp</th>\n",
       "      <th>crime_rate</th>\n",
       "      <th>pob_density</th>\n",
       "    </tr>\n",
       "  </thead>\n",
       "  <tbody>\n",
       "    <tr>\n",
       "      <th>0</th>\n",
       "      <td>1</td>\n",
       "      <td>0</td>\n",
       "      <td>1</td>\n",
       "      <td>0.0</td>\n",
       "      <td>0</td>\n",
       "      <td>5</td>\n",
       "      <td>1</td>\n",
       "      <td>2</td>\n",
       "      <td>1</td>\n",
       "    </tr>\n",
       "    <tr>\n",
       "      <th>2</th>\n",
       "      <td>0</td>\n",
       "      <td>2</td>\n",
       "      <td>0</td>\n",
       "      <td>0.0</td>\n",
       "      <td>0</td>\n",
       "      <td>7</td>\n",
       "      <td>0</td>\n",
       "      <td>1</td>\n",
       "      <td>1</td>\n",
       "    </tr>\n",
       "    <tr>\n",
       "      <th>3</th>\n",
       "      <td>1</td>\n",
       "      <td>1</td>\n",
       "      <td>1</td>\n",
       "      <td>0.0</td>\n",
       "      <td>1</td>\n",
       "      <td>2</td>\n",
       "      <td>2</td>\n",
       "      <td>1</td>\n",
       "      <td>2</td>\n",
       "    </tr>\n",
       "    <tr>\n",
       "      <th>5</th>\n",
       "      <td>0</td>\n",
       "      <td>2</td>\n",
       "      <td>1</td>\n",
       "      <td>1.0</td>\n",
       "      <td>0</td>\n",
       "      <td>4</td>\n",
       "      <td>1</td>\n",
       "      <td>0</td>\n",
       "      <td>2</td>\n",
       "    </tr>\n",
       "    <tr>\n",
       "      <th>6</th>\n",
       "      <td>0</td>\n",
       "      <td>2</td>\n",
       "      <td>0</td>\n",
       "      <td>0.0</td>\n",
       "      <td>1</td>\n",
       "      <td>3</td>\n",
       "      <td>1</td>\n",
       "      <td>0</td>\n",
       "      <td>2</td>\n",
       "    </tr>\n",
       "  </tbody>\n",
       "</table>\n",
       "</div>"
      ],
      "text/plain": [
       "   facility_type  risk  inspection_type  violations  north_south  community  \\\n",
       "0              1     0                1         0.0            0          5   \n",
       "2              0     2                0         0.0            0          7   \n",
       "3              1     1                1         0.0            1          2   \n",
       "5              0     2                1         1.0            0          4   \n",
       "6              0     2                0         0.0            1          3   \n",
       "\n",
       "   life_exp  crime_rate  pob_density  \n",
       "0         1           2            1  \n",
       "2         0           1            1  \n",
       "3         2           1            2  \n",
       "5         1           0            2  \n",
       "6         1           0            2  "
      ]
     },
     "execution_count": 195,
     "metadata": {},
     "output_type": "execute_result"
    }
   ],
   "source": [
    "del X['zip']\n",
    "del X['address']\n",
    "del X['latitude']\n",
    "del X['longitude']\n",
    "del X['location']\n",
    "del X['inspection_date']\n",
    "del X['dba_name']\n",
    "X.head()"
   ]
  },
  {
   "cell_type": "code",
   "execution_count": 196,
   "metadata": {},
   "outputs": [],
   "source": [
    "X['pob_density'] = X['pob_density'].astype('category')\n",
    "X['crime_rate'] = X['crime_rate'].astype('category')\n",
    "X['life_exp'] = X['life_exp'].astype('category')\n",
    "X['community'] = X['community'].astype('category')\n",
    "X['north_south'] = X['north_south'].astype('category')\n",
    "X['violations'] = X['violations'].astype('category')\n",
    "X['inspection_type'] = X['inspection_type'].astype('category')\n",
    "X['risk'] = X['risk'].astype('category')\n",
    "X['facility_type'] = X['facility_type'].astype('category')"
   ]
  },
  {
   "cell_type": "code",
   "execution_count": 197,
   "metadata": {},
   "outputs": [],
   "source": [
    "from sklearn.model_selection import train_test_split\n",
    "X_train, X_test, y_train, y_test = train_test_split(X, y, test_size = 0.30,random_state=0)"
   ]
  },
  {
   "cell_type": "code",
   "execution_count": 198,
   "metadata": {},
   "outputs": [],
   "source": [
    "from sklearn.linear_model import LogisticRegression\n",
    "clf = LogisticRegression(random_state=0, solver='lbfgs', multi_class='multinomial').fit(X_train, y_train)\n",
    "predicciones = clf.predict(X_test)"
   ]
  },
  {
   "cell_type": "code",
   "execution_count": 75,
   "metadata": {},
   "outputs": [],
   "source": [
    "import matplotlib.pyplot as plt\n",
    "\n",
    "def plot_confusion_matrix(cm, target_names, title = 'The Confusion Matrix', cmap = plt.cm.YlOrRd):\n",
    "    plt.imshow(cm, interpolation = 'nearest', cmap = cmap)\n",
    "    plt.tight_layout()\n",
    "    \n",
    "    # Add feature labels to x and y axes\n",
    "    tick_marks = np.arange(len(target_names))\n",
    "    plt.xticks(tick_marks, target_names, rotation=45)\n",
    "    plt.yticks(tick_marks, target_names)\n",
    "    \n",
    "    plt.ylabel('True Label')\n",
    "    plt.xlabel('Predicted Label')\n",
    "    \n",
    "    plt.colorbar()"
   ]
  },
  {
   "cell_type": "code",
   "execution_count": 199,
   "metadata": {},
   "outputs": [
    {
     "name": "stdout",
     "output_type": "stream",
     "text": [
      "[[3471   14]\n",
      " [  47 2363]]\n"
     ]
    },
    {
     "data": {
      "image/png": "[encoded data removed]",
      "text/plain": [
       "<Figure size 432x288 with 2 Axes>"
      ]
     },
     "metadata": {},
     "output_type": "display_data"
    }
   ],
   "source": [
    "from sklearn.metrics import confusion_matrix\n",
    "%matplotlib inline\n",
    "cm = confusion_matrix(y_test, predicciones)\n",
    "print(cm)\n",
    "\n",
    "plot_confusion_matrix(cm, [\"Pass\", \"Fail\"])"
   ]
  },
  {
   "cell_type": "code",
   "execution_count": 200,
   "metadata": {},
   "outputs": [
    {
     "data": {
      "image/png": "[encoded data removed]",
      "text/plain": [
       "<Figure size 432x288 with 1 Axes>"
      ]
     },
     "metadata": {},
     "output_type": "display_data"
    }
   ],
   "source": [
    "from sklearn.metrics import roc_curve, auc\n",
    "fpr = dict()\n",
    "tpr = dict()\n",
    "roc_auc = dict()\n",
    "fpr[0], tpr[0], _ = roc_curve(y_test, predicciones)\n",
    "roc_auc[0] = auc(fpr[0], tpr[0])\n",
    "plt.figure()\n",
    "lw = 2\n",
    "\n",
    "plt.plot(fpr[0], tpr[0], color='darkorange',\n",
    "         lw=lw, label='ROC curve (area = %0.2f)' % roc_auc[0])\n",
    "plt.plot([0, 1], [0, 1], color='navy', lw=lw, linestyle='--')\n",
    "plt.xlim([0.0, 1.0])\n",
    "plt.ylim([0.0, 1.05])\n",
    "plt.xlabel('False Positive Rate')\n",
    "plt.ylabel('True Positive Rate')\n",
    "plt.title('Receiver operating characteristic example')\n",
    "plt.legend(loc=\"lower right\")\n",
    "plt.show()"
   ]
  },
  {
   "cell_type": "code",
   "execution_count": 201,
   "metadata": {},
   "outputs": [],
   "source": [
    "del X['violations']"
   ]
  },
  {
   "cell_type": "code",
   "execution_count": 202,
   "metadata": {},
   "outputs": [
    {
     "name": "stdout",
     "output_type": "stream",
     "text": [
      "[[3475   10]\n",
      " [2401    9]]\n"
     ]
    },
    {
     "data": {
      "image/png": "[encoded data removed]",
      "text/plain": [
       "<Figure size 432x288 with 2 Axes>"
      ]
     },
     "metadata": {},
     "output_type": "display_data"
    }
   ],
   "source": [
    "X_train, X_test, y_train, y_test = train_test_split(X, y, test_size = 0.30, random_state=0)\n",
    "clf = LogisticRegression(random_state=0, solver='lbfgs', multi_class='multinomial').fit(X_train, y_train)\n",
    "predicciones = clf.predict(X_test)\n",
    "cm = confusion_matrix(y_test, predicciones)\n",
    "print(cm)\n",
    "plot_confusion_matrix(cm, [\"Pass\", \"Fail\"])"
   ]
  },
  {
   "cell_type": "code",
   "execution_count": 203,
   "metadata": {},
   "outputs": [
    {
     "data": {
      "image/png": "[encoded data removed]",
      "text/plain": [
       "<Figure size 432x288 with 1 Axes>"
      ]
     },
     "metadata": {},
     "output_type": "display_data"
    }
   ],
   "source": [
    "fpr = dict()\n",
    "tpr = dict()\n",
    "roc_auc = dict()\n",
    "fpr[0], tpr[0], _ = roc_curve(y_test, predicciones)\n",
    "roc_auc[0] = auc(fpr[0], tpr[0])\n",
    "plt.figure()\n",
    "lw = 2\n",
    "\n",
    "plt.plot(fpr[0], tpr[0], color='darkorange',\n",
    "         lw=lw, label='ROC curve (area = %0.2f)' % roc_auc[0])\n",
    "plt.plot([0, 1], [0, 1], color='navy', lw=lw, linestyle='--')\n",
    "plt.xlim([0.0, 1.0])\n",
    "plt.ylim([0.0, 1.05])\n",
    "plt.xlabel('False Positive Rate')\n",
    "plt.ylabel('True Positive Rate')\n",
    "plt.title('Receiver operating characteristic example')\n",
    "plt.legend(loc=\"lower right\")\n",
    "plt.show()"
   ]
  }
 ],
 "metadata": {
  "kernelspec": {
   "display_name": "Python 3",
   "language": "python",
   "name": "python3"
  },
  "language_info": {
   "codemirror_mode": {
    "name": "ipython",
    "version": 3
   },
   "file_extension": ".py",
   "mimetype": "text/x-python",
   "name": "python",
   "nbconvert_exporter": "python",
   "pygments_lexer": "ipython3",
   "version": "3.6.5"
  }
 },
 "nbformat": 4,
 "nbformat_minor": 2
}
